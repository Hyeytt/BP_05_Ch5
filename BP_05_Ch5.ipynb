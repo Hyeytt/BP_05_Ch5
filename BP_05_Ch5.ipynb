{
  "nbformat": 4,
  "nbformat_minor": 0,
  "metadata": {
    "colab": {
      "provenance": [],
      "authorship_tag": "ABX9TyOFJgcJg2usi8VzXR4k1fOz",
      "include_colab_link": true
    },
    "kernelspec": {
      "name": "python3",
      "display_name": "Python 3"
    },
    "language_info": {
      "name": "python"
    }
  },
  "cells": [
    {
      "cell_type": "markdown",
      "metadata": {
        "id": "view-in-github",
        "colab_type": "text"
      },
      "source": [
        "<a href=\"https://colab.research.google.com/github/Hyeytt/BP_05_Ch5/blob/main/BP_05_Ch5.ipynb\" target=\"_parent\"><img src=\"https://colab.research.google.com/assets/colab-badge.svg\" alt=\"Open In Colab\"/></a>"
      ]
    },
    {
      "cell_type": "markdown",
      "source": [
        "# 1. 다음 프로그램의 출력은 무엇인가?"
      ],
      "metadata": {
        "id": "YabqElAXGFCz"
      }
    },
    {
      "cell_type": "code",
      "execution_count": 1,
      "metadata": {
        "colab": {
          "base_uri": "https://localhost:8080/"
        },
        "id": "JTdKMZA7Ep5D",
        "outputId": "e7e510b0-962c-44ce-cbdc-cbe6daaa18e2"
      },
      "outputs": [
        {
          "output_type": "stream",
          "name": "stdout",
          "text": [
            "20살 이상\n"
          ]
        }
      ],
      "source": [
        "age = 20\n",
        "if age < 20:\n",
        "  print('20살 미만')\n",
        "\n",
        "else:\n",
        "  print('20살 이상')"
      ]
    },
    {
      "cell_type": "markdown",
      "source": [
        "# 2. 1번 문제에서 age가 30이상이고 50이하인 것을 체크하려면 어떻게 하여야 하는가? "
      ],
      "metadata": {
        "id": "U48knNnWGPSv"
      }
    },
    {
      "cell_type": "code",
      "source": [
        "age = 20\n",
        "if age >= 30 and age <= 50:\n",
        "  print('30살 이상이고 50살 이하')\n",
        "\n"
      ],
      "metadata": {
        "id": "6SMOBWXgE-Fe"
      },
      "execution_count": 3,
      "outputs": []
    },
    {
      "cell_type": "markdown",
      "source": [
        "# 3. 사용자에게 현재 온도를 질문하고 온도가 25도 이상이면 반바지를 추천하고 25도 미만이면 긴바지를 추천하는 프로그램을 작성해보자."
      ],
      "metadata": {
        "id": "PDN5BGJrGa7r"
      }
    },
    {
      "cell_type": "code",
      "source": [
        "temp = int(input(\"현재 온도를 입력하시오: \"))\n",
        "\n",
        "if temp >= 25:\n",
        "  print(\"반바지를 입으세요\")\n",
        "\n",
        "else:\n",
        "  print(\"긴바지를 입으세요\") "
      ],
      "metadata": {
        "colab": {
          "base_uri": "https://localhost:8080/"
        },
        "id": "6aD47eCYGo5Q",
        "outputId": "30789307-3ae5-49fb-80fb-eff55956b320"
      },
      "execution_count": 4,
      "outputs": [
        {
          "output_type": "stream",
          "name": "stdout",
          "text": [
            "현재 온도를 입력하시오: 17\n",
            "긴바지를 입으세요\n"
          ]
        }
      ]
    },
    {
      "cell_type": "markdown",
      "source": [
        "# 4. 학생의 시험 점수를 물어보고 시험 점수가 90점 이상이면 A. 80점 이상이면 B, 70점 이상이면 C, 60점 이상이면 D, 그 외의 점수이면 F를 학점으로 주는 프로그램을 작성하라."
      ],
      "metadata": {
        "id": "txOI1mBkHIeL"
      }
    },
    {
      "cell_type": "code",
      "source": [
        "score = int(input(\"성적을 입력하시오 : \"))\n",
        "\n",
        "if score >= 90:\n",
        "  print(\"A 학점입니다.\")\n",
        "elif score >= 80:\n",
        "  print(\"B 학점입니다.\")\n",
        "elif score >= 70:\n",
        "  print(\"C 학점입니다.\")\n",
        "elif score >= 60:\n",
        "  print(\"D 학점입니다.\")\n",
        "else :\n",
        "  print(\"F 학점입니다.\")"
      ],
      "metadata": {
        "colab": {
          "base_uri": "https://localhost:8080/"
        },
        "id": "arYIV6EkHR3x",
        "outputId": "0f384056-c8d8-4d36-9d42-b422baf036b9"
      },
      "execution_count": 5,
      "outputs": [
        {
          "output_type": "stream",
          "name": "stdout",
          "text": [
            "성적을 입력하시오 : 95\n",
            "A 학점입니다.\n"
          ]
        }
      ]
    },
    {
      "cell_type": "markdown",
      "source": [
        "# 5. 난수를 사용하여 1부터 100사이의 숫자릍사용하는 뺄셈 문제를 생성하고 사용자에게 물어본 후에 사용자의 답변이 올바른지를 검사하는 프로그램을 작성하라."
      ],
      "metadata": {
        "id": "PyDIoNF1IG-8"
      }
    },
    {
      "cell_type": "code",
      "source": [
        "import random\n",
        "x = random.randint(1, 100)\n",
        "y = random.randint(1, 100)\n",
        "\n",
        "ans= int(input(str(x) + \"-\" + str(y) + \"=\"))\n",
        "\n",
        "if ans == x-y :\n",
        "  print(\"맞았습니다.\")\n",
        "else :\n",
        "  print(\"틀렸습니다\")"
      ],
      "metadata": {
        "colab": {
          "base_uri": "https://localhost:8080/"
        },
        "id": "WqsKRIV9IQ3w",
        "outputId": "13a37c8d-f6e0-410f-a910-b12f5de6e68f"
      },
      "execution_count": 7,
      "outputs": [
        {
          "output_type": "stream",
          "name": "stdout",
          "text": [
            "34-15=19\n",
            "맞았습니다.\n"
          ]
        }
      ]
    },
    {
      "cell_type": "markdown",
      "source": [
        "# 6. 사용자로부터 정수를 받아서 이 정수가 2와3으로 나누어떨어질 수 있는지를 출력해라."
      ],
      "metadata": {
        "id": "W8JAyadlJGLZ"
      }
    },
    {
      "cell_type": "code",
      "source": [
        "n = int(input(\"정수를 입력하시오 : \"))\n",
        "\n",
        "if n%2==0 and n%3==0:\n",
        "  print(\"2와 3으로 나누어 떨어집니다\")\n",
        "else :\n",
        "  print(\"2와 3으로 나누어 떨어지지 않습니다\")"
      ],
      "metadata": {
        "colab": {
          "base_uri": "https://localhost:8080/"
        },
        "id": "IwA4QPIHJYB1",
        "outputId": "2762a2d9-722e-4f90-fc4f-897134c99f50"
      },
      "execution_count": 8,
      "outputs": [
        {
          "output_type": "stream",
          "name": "stdout",
          "text": [
            "정수를 입력하시오 : 17\n",
            "2와 3으로 나누어 떨어지지 않습니다\n"
          ]
        }
      ]
    },
    {
      "cell_type": "markdown",
      "source": [
        "# 7. 2자리 숫자로 이루어진 복권이 있다. 사용자가 가지고 있는 복권 번호가 2자리 모두 일치하면 100만원을 받는다. 2자리 중에서 하나만 일치하면 50만원을 받는다. 하나도 일치하지 않으면 상금은 없다 복권 당첩 번호는 난수로 생성하고 사용자의 입럭에 따라서 상금이 얼마인지를 출력하는 프로그랩을 작성하라."
      ],
      "metadata": {
        "id": "k2wtGRSvJ9jY"
      }
    },
    {
      "cell_type": "code",
      "source": [
        "import random \n",
        "\n",
        "solution = random.randint(0,99)\n",
        "\n",
        "user = int(input(\"복권번호를 입력하시오(0에서 99까지) : \"))\n",
        "\n",
        "digit1 = solution // 10\n",
        "digit2 = solution % 10\n",
        "\n",
        "u_digit1 = user // 10 \n",
        "u_digit2 = user % 10\n",
        "\n",
        "print(\"당첨번호\", solution , \"입니다.\")"
      ],
      "metadata": {
        "colab": {
          "base_uri": "https://localhost:8080/"
        },
        "id": "RRNBFmEEKPhz",
        "outputId": "89cfa17e-4c28-42b4-9e5b-ef15510fdde1"
      },
      "execution_count": 9,
      "outputs": [
        {
          "output_type": "stream",
          "name": "stdout",
          "text": [
            "복권번호를 입력하시오(0에서 99까지) : 1\n",
            "당첨번호 52 입니다.\n"
          ]
        }
      ]
    },
    {
      "cell_type": "markdown",
      "source": [
        "# 8. 사용자로부터 2개의 원에 대한 정보를 받아서 화면에 원을 그런 후에 조건문을 사용하여 큰 원 안에 작은 원이 포함되는지를 판단하는 프로그랩을 작성하라"
      ],
      "metadata": {
        "id": "gLOgfJuuLTKO"
      }
    },
    {
      "cell_type": "markdown",
      "source": [
        "    import turtle\n",
        "\n",
        "    t = turtle.Turtle()\n",
        "\n",
        "    t.shape(\"turtle\")\n",
        "\n",
        "    x1 : int(input(\"큰 원의 중심좌표 x1:\"))\n",
        "    y1 : int(input(\"큰 원의 중심좌표 y1:\"))\n",
        "    r1 : int(input(\"큰 원의 반지름 :\"))\n",
        "    x2 : int(input(\"작은 원의 중심좌표 x2:\"))\n",
        "    y2 : int(input(\"작은 원의 중심좌표 y2:\"))\n",
        "    r2 : int(input(\"작은 원의 반지름 r2:\"))\n",
        "    \n",
        "    t.penup()\n",
        "    t.goto(x1, y1)\n",
        "    t.pendown()\n"
      ],
      "metadata": {
        "id": "UUd8YTDDLlhp"
      }
    }
  ]
}