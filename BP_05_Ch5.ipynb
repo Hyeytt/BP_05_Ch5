{
  "nbformat": 4,
  "nbformat_minor": 0,
  "metadata": {
    "colab": {
      "provenance": [],
      "authorship_tag": "ABX9TyNqnbVjlWPgWxLy8GI7wkgM",
      "include_colab_link": true
    },
    "kernelspec": {
      "name": "python3",
      "display_name": "Python 3"
    },
    "language_info": {
      "name": "python"
    }
  },
  "cells": [
    {
      "cell_type": "markdown",
      "metadata": {
        "id": "view-in-github",
        "colab_type": "text"
      },
      "source": [
        "<a href=\"https://colab.research.google.com/github/Hyeytt/BP_05_Ch5/blob/main/BP_05_Ch5.ipynb\" target=\"_parent\"><img src=\"https://colab.research.google.com/assets/colab-badge.svg\" alt=\"Open In Colab\"/></a>"
      ]
    },
    {
      "cell_type": "markdown",
      "source": [
        "# 1. 다음 프로그램의 출력은 무엇인가?"
      ],
      "metadata": {
        "id": "YabqElAXGFCz"
      }
    },
    {
      "cell_type": "code",
      "execution_count": null,
      "metadata": {
        "colab": {
          "base_uri": "https://localhost:8080/"
        },
        "id": "JTdKMZA7Ep5D",
        "outputId": "e7e510b0-962c-44ce-cbdc-cbe6daaa18e2"
      },
      "outputs": [
        {
          "output_type": "stream",
          "name": "stdout",
          "text": [
            "20살 이상\n"
          ]
        }
      ],
      "source": [
        "age = 20                        # 변수 age를 20으로 설정한다.\n",
        "if age < 20:                    # age가 20 이하 일때를 가정한다 \n",
        "  print('20살 미만')            # 가정을 만족시킬 경우'20살 미만'을 출력한다\n",
        "\n",
        "else:                           # 그 외의 경우를 의미한다 \n",
        "  print('20살 이상')            # '20살 이상' 을 출력한다"
      ]
    },
    {
      "cell_type": "markdown",
      "source": [
        "# 2. 1번 문제에서 age가 30이상이고 50이하인 것을 체크하려면 어떻게 하여야 하는가? "
      ],
      "metadata": {
        "id": "U48knNnWGPSv"
      }
    },
    {
      "cell_type": "code",
      "source": [
        "age = int(input(\"당신의 나이는 몇 살 인가요?\"))               # age를 input함수를 이용하여 입력받는다 \n",
        "if age >= 30 and age <= 50:                                   # age가 30살 이상이고 50이하인 경우를 가정한다       \n",
        "  print('30살 이상이고 50살 이하')                            # 가정을 만족시킬 경우 '30살 이상이고 50살 이하'를 출력시킨다\n",
        "\n"
      ],
      "metadata": {
        "id": "6SMOBWXgE-Fe"
      },
      "execution_count": null,
      "outputs": []
    },
    {
      "cell_type": "markdown",
      "source": [
        "# 3. 사용자에게 현재 온도를 질문하고 온도가 25도 이상이면 반바지를 추천하고 25도 미만이면 긴바지를 추천하는 프로그램을 작성해보자."
      ],
      "metadata": {
        "id": "PDN5BGJrGa7r"
      }
    },
    {
      "cell_type": "code",
      "source": [
        "temp = int(input(\"현재 온도를 입력하시오: \"))      # temp값을 input 함수를 이용하여 입력받는다 \n",
        "\n",
        "if temp >= 25:                                     # 온도가 25도 이상일 경우\n",
        "  print(\"반바지를 입으세요\")                       # \"반바지를 입으세요\"를 출력한다\n",
        "\n",
        "else:                                              # 그 외의 경우에는 \n",
        "  print(\"긴바지를 입으세요\")                       # \"긴바지를 입으세요\"를 출력한다"
      ],
      "metadata": {
        "colab": {
          "base_uri": "https://localhost:8080/"
        },
        "id": "6aD47eCYGo5Q",
        "outputId": "30789307-3ae5-49fb-80fb-eff55956b320"
      },
      "execution_count": null,
      "outputs": [
        {
          "output_type": "stream",
          "name": "stdout",
          "text": [
            "현재 온도를 입력하시오: 17\n",
            "긴바지를 입으세요\n"
          ]
        }
      ]
    },
    {
      "cell_type": "markdown",
      "source": [
        "# 4. 학생의 시험 점수를 물어보고 시험 점수가 90점 이상이면 A. 80점 이상이면 B, 70점 이상이면 C, 60점 이상이면 D, 그 외의 점수이면 F를 학점으로 주는 프로그램을 작성하라."
      ],
      "metadata": {
        "id": "txOI1mBkHIeL"
      }
    },
    {
      "cell_type": "code",
      "source": [
        "score = int(input(\"성적을 입력하시오 : \"))             # score값을 input 함수를 이용하여 입력받는다 \n",
        "\n",
        "if score >= 90:                                        # score 값이 90 이상일 경우를 가정한다\n",
        "  print(\"A 학점입니다.\")                               # 가정을 만족시킬 경우 \"A 학점입니다.\"를 출력시킨다\n",
        "elif score >= 80:                                      # score 값이 80 이상일 경우를 가정한다, elif라는 else if 함수를 사용해 표현한다 \n",
        "  print(\"B 학점입니다.\")                               # 가정을 만족시킬 경우 \"B 학점입니다.\"를 출력시킨다\n",
        "elif score >= 70:                                      # score 값이 70 이상일 경우를 가정한다\n",
        "  print(\"C 학점입니다.\")                               # 가정을 만족시킬 경우 \"C 학점입니다.\"를 출력시킨다\n",
        "elif score >= 60:                                      # score 값이 60 이상일 경우를 가정한다 \n",
        "  print(\"D 학점입니다.\")                               # 가정을 만족시킬 경우 \"D 학점입니다.\"를 출력시킨다\n",
        "else :                                                 # 그 외의 경우에는 \n",
        "  print(\"F 학점입니다.\")                               # 'F 학점입니다' 출력한다"
      ],
      "metadata": {
        "colab": {
          "base_uri": "https://localhost:8080/"
        },
        "id": "arYIV6EkHR3x",
        "outputId": "0f384056-c8d8-4d36-9d42-b422baf036b9"
      },
      "execution_count": null,
      "outputs": [
        {
          "output_type": "stream",
          "name": "stdout",
          "text": [
            "성적을 입력하시오 : 95\n",
            "A 학점입니다.\n"
          ]
        }
      ]
    },
    {
      "cell_type": "markdown",
      "source": [
        "# 5. 난수를 사용하여 1부터 100사이의 숫자릍사용하는 뺄셈 문제를 생성하고 사용자에게 물어본 후에 사용자의 답변이 올바른지를 검사하는 프로그램을 작성하라."
      ],
      "metadata": {
        "id": "PyDIoNF1IG-8"
      }
    },
    {
      "cell_type": "code",
      "source": [
        "import random                                    # 라이브러리에서 random 을 임포트한다. \n",
        "x = random.randint(1, 100)                       # randint함수를 사용해 불러온 1과 100사이의 무작위 숫자를 x값으로 둔다\n",
        "y = random.randint(1, 100)                       # randint함수를 사용해 불러온 1과 100사이의 무작위 숫자를 y값으로 둔다\n",
        "\n",
        "ans= int(input(str(x) + \"-\" + str(y) + \"=\"))     # ans값을 input 함수를 사용해 받는다\n",
        "\n",
        "if ans == x-y :                                  # 입력받은 ans값이 x-y값과 같다면 \n",
        "  print(\"맞았습니다.\")                           # \"맞았습니다.\"를 출력한다\n",
        "else :                                           # 만약 값이 다르다면 \n",
        "  print(\"틀렸습니다\")                            # \"틀렸습니다\"를 출력한다"
      ],
      "metadata": {
        "colab": {
          "base_uri": "https://localhost:8080/"
        },
        "id": "WqsKRIV9IQ3w",
        "outputId": "13a37c8d-f6e0-410f-a910-b12f5de6e68f"
      },
      "execution_count": null,
      "outputs": [
        {
          "output_type": "stream",
          "name": "stdout",
          "text": [
            "34-15=19\n",
            "맞았습니다.\n"
          ]
        }
      ]
    },
    {
      "cell_type": "markdown",
      "source": [
        "# 6. 사용자로부터 정수를 받아서 이 정수가 2와3으로 나누어떨어질 수 있는지를 출력해라."
      ],
      "metadata": {
        "id": "W8JAyadlJGLZ"
      }
    },
    {
      "cell_type": "code",
      "source": [
        "n = int(input(\"정수를 입력하시오 : \"))                  # n값을 input 함수를 이용하여 입력받는다\n",
        "\n",
        "if n%2==0 and n%3==0:                                   # %는 나머지를 출력하는 연산자이다. 2와 3으로 나누었을때의 나머지가 0이라면\n",
        "  print(\"2와 3으로 나누어 떨어집니다\")                  # \"2와 3으로 나누어 떨어집니다\" 를 출력한다\n",
        "else :                                                  # 나누어 떨어지지 않는다면\n",
        "  print(\"2와 3으로 나누어 떨어지지 않습니다\")           # \"2와 3으로 나누어 떨어지지 않습니다\""
      ],
      "metadata": {
        "colab": {
          "base_uri": "https://localhost:8080/"
        },
        "id": "IwA4QPIHJYB1",
        "outputId": "2762a2d9-722e-4f90-fc4f-897134c99f50"
      },
      "execution_count": null,
      "outputs": [
        {
          "output_type": "stream",
          "name": "stdout",
          "text": [
            "정수를 입력하시오 : 17\n",
            "2와 3으로 나누어 떨어지지 않습니다\n"
          ]
        }
      ]
    },
    {
      "cell_type": "markdown",
      "source": [
        "# 7. 2자리 숫자로 이루어진 복권이 있다. 사용자가 가지고 있는 복권 번호가 2자리 모두 일치하면 100만원을 받는다. 2자리 중에서 하나만 일치하면 50만원을 받는다. 하나도 일치하지 않으면 상금은 없다 복권 당첩 번호는 난수로 생성하고 사용자의 입럭에 따라서 상금이 얼마인지를 출력하는 프로그랩을 작성하라."
      ],
      "metadata": {
        "id": "k2wtGRSvJ9jY"
      }
    },
    {
      "cell_type": "code",
      "source": [
        "import random                                             # 라이브러리에서 random 을 임포트한다\n",
        "\n",
        "solution = random.randint(0,99)                           # solution에 해당하는 값을 randomint함수를 사용해 0과 99사이의 무작위 수로 정한다 \n",
        "\n",
        "user = int(input(\"복권번호를 입력하시오(0에서 99까지) : \"))  # user값을 input 함수를 이용하여 입력받는다\n",
        "\n",
        "digit1 = solution // 10                                   # digit1값은 solution값을 10으로 나눈 후 몫\n",
        "digit2 = solution % 10                                    # digit2값은 solution값을 10으로 나눈 후 나머지\n",
        "\n",
        "u_digit1 = user // 10                                     # digit1값은 user 값을 10으로 나눈 후 몫\n",
        "u_digit2 = user % 10                                      # digit2값은 user 값을 10으로 나눈 후 나머지\n",
        "\n",
        "print(\"당첨번호는\", solution, \"입니다,\")                  # \"당첨번호는 solution 입니다를 출력한다\"\n",
        "if (digit1 == u_digit1 and digit2 == u_digit2):           # 만약 digit1 과 u_digit1 값이 같고 , digit2와 u_digit2 값이 같다면\n",
        "  print(\"상금은 100만원 입니다.\")                         # \"상금은 100만원 입니다.\"를 출력한다\n",
        "elif (digit1 == u_digit1                                  # 만약 한자리 숫자만 같은 경우라면 \n",
        "      or digit1 == u_digit2\n",
        "      or digit2 == u_digit1\n",
        "      or digit2 == u_digit2):\n",
        "  print(\"상금은 50만원입니다.\")                           # \"상금은 50만원입니다.\"를 출력한다\n",
        "else:\n",
        "  print(\"상금은 없습니다\")                                # 둘다 아니라면 \"상금은 없습니다\"를 출력한다"
      ],
      "metadata": {
        "colab": {
          "base_uri": "https://localhost:8080/"
        },
        "id": "RRNBFmEEKPhz",
        "outputId": "9e5255d6-d55b-4252-c096-2a146e3b310a"
      },
      "execution_count": 2,
      "outputs": [
        {
          "output_type": "stream",
          "name": "stdout",
          "text": [
            "복권번호를 입력하시오(0에서 99까지) : 23\n",
            "당첨번호는 71 입니다,\n",
            "상금은 없습니다\n"
          ]
        }
      ]
    },
    {
      "cell_type": "markdown",
      "source": [
        "# 8. 사용자로부터 2개의 원에 대한 정보를 받아서 화면에 원을 그런 후에 조건문을 사용하여 큰 원 안에 작은 원이 포함되는지를 판단하는 프로그랩을 작성하라"
      ],
      "metadata": {
        "id": "gLOgfJuuLTKO"
      }
    },
    {
      "cell_type": "markdown",
      "source": [
        "    import turtle                    #turtle 함수를 불러온다                      \n",
        "\n",
        "    t = turtle.Turtle()             # 변수 t를 turtle함수와 같다고 정함\n",
        "\n",
        "    t.shape(\"turtle\")               # t를 거북이 모양으로 정함\n",
        "\n",
        "    x1 : int(input(\"큰 원의 중심좌표 x1:\"))   # x1값을 input함수를 사용해 입력받는다\n",
        "    y1 : int(input(\"큰 원의 중심좌표 y1:\"))   # y1값을 input함수를 사용해 입력받는다\n",
        "    r1 : int(input(\"큰 원의 반지름 :\"))       # r1값을 input함수를 사용해 입력받는다\n",
        "    x2 : int(input(\"작은 원의 중심좌표 x2:\")) # x2값을 input함수를 사용해 입력받는다\n",
        "    y2 : int(input(\"작은 원의 중심좌표 y2:\")) # y1값을 input함수를 사용해 입력받는다\n",
        "    r2 : int(input(\"작은 원의 반지름 r2:\"))   # r2값을 input함수를 사용해 입력받는다\n",
        "    \n",
        "    t.penup()                                # 펜을 든다\n",
        "    t.goto(x1, y1)                           # goto함수를 이용해 좌표 x1,y1로 이동시킨다\n",
        "    t.pendown()                              # 펜을 내린다\n",
        "    t.circle(r1)                             # r1만큼의 반지름을 가진 원을 가짐\n",
        "\n",
        "    t.penup()                                # 펜을 든다\n",
        "    t.goto(x2, y2)                           # goto함수를 이용해 좌표 x2,y2로 이동시킨다 \n",
        "    t.pendown()                              # 펜을 내린다\n",
        "    t.circle(r2)                             # r2만큼의 반지름을 가진 원을 가짐\n",
        "\n",
        "    dist = ((x1- x2) * (x1-x2) + (y1 - y2) * (y1 -y2)) ** 0.5  # 점과 점 사이를 구하는 공식이다\n",
        "    if dist <= r1-r2 :                       # 반지름의 차이를 원의 중심사이의 거리와 비교한다.\n",
        "        turtle.write(\"두번째 원이 첫번째 원의 내부에 있습니다.\") #write 함수를 사용한다.\n",
        "    elif dist <= r1 + r2:                    # 반지름의 차이를 원의 중심사이의 거리와 비교한다.\n",
        "        turtle.write(\"두번째 원이 첫번째 원과 겹칩니다.\")\n",
        "    else:\n",
        "        turtle.write(\"두번째 원이 첫번째 원과 겹치지 않습니다.\") \n",
        " \n",
        "    t._screen.exitonclick()  #클릭을 해야 종료가 되게 만드는 함수"
      ],
      "metadata": {
        "id": "UUd8YTDDLlhp"
      }
    }
  ]
}